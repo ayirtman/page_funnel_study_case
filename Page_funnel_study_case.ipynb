{
 "cells": [
  {
   "cell_type": "markdown",
   "id": "14b82923",
   "metadata": {},
   "source": [
    "#### Cool T-Shirts Inc. has asked you to analyze data on visits to their website. Myjob is to build a funnel, which is a description of how many people continue to the next step of a multi-step process.\n"
   ]
  },
  {
   "cell_type": "code",
   "execution_count": 3,
   "id": "0a64dff9",
   "metadata": {},
   "outputs": [
    {
     "name": "stdout",
     "output_type": "stream",
     "text": [
      "82.6 percent of users who visited the page did not add a t-shirt to their cart\n",
      "35.06 percent of users who added a t-shirt to their cart did not checkout\n",
      "36.28 percent of users who made it to checkout  did not purchase a shirt\n",
      "Average time to purchase is 0 days 00:43:12.380952380\n"
     ]
    }
   ],
   "source": [
    "\"\"\"In this case, our funnel is going to describe the following process:\n",
    "\n",
    "A user visits CoolTShirts.com\n",
    "A user adds a t-shirt to their cart\n",
    "A user clicks “checkout”\n",
    "A user actually purchases a t-shirt\n",
    "\"\"\"\n",
    "import pandas as pd\n",
    "\n",
    "#Reading the CSV files\n",
    "visits = pd.read_csv('visits.csv',\n",
    "                     parse_dates=[1])\n",
    "cart = pd.read_csv('cart.csv',\n",
    "                   parse_dates=[1])\n",
    "checkout = pd.read_csv('checkout.csv',\n",
    "                       parse_dates=[1])\n",
    "purchase = pd.read_csv('purchase.csv',\n",
    "                       parse_dates=[1])\n",
    "\n",
    "#Inspecting DataFrames\n",
    "#print(visits.head(5))\n",
    "#print(cart.head(5))\n",
    "#print(checkout.head(5))\n",
    "#print(purchase.head(5))\n",
    "\n",
    "#First level of funnel is calculating what percentage of users moved to cart\n",
    "\n",
    "#To find it I need to combine \"visits\" & \"cart\" dataframes\n",
    "visit_to_cart = pd.merge(visits,cart,how=\"left\")\n",
    "\n",
    "#Length of dataframe\n",
    "len_visit_to_cart = len(visit_to_cart)\n",
    "\n",
    "#number of null timestamps in \"cart\" dataframe\n",
    "null_cart_times = len(visit_to_cart[visit_to_cart.cart_time.isnull()])\n",
    "\n",
    "#ratio of customers who visited but not added the product to their cart\n",
    "visited_not_cart = float(null_cart_times)/float(len(visits))\n",
    "\n",
    "\n",
    "#Second level of funnel is calculating what percentage of users moved to checkout from cart\n",
    "## To calculate this ratio I will merge \"cart\" and \"checkout\" dataframes\n",
    "cart_checkout = cart.merge(checkout, how=\"left\")\n",
    "\n",
    "#number of users who did not checkout\n",
    "null_checkout_times = len(cart_checkout[cart_checkout.checkout_time.isnull()])\n",
    "\n",
    "#ratio of customers who put products to cart but not checkout\n",
    "cart_not_checkout = float(null_checkout_times) / float(len(cart))\n",
    "\n",
    "#Third level of funnel is calculating what percentage of users not moved to purchase from checkout\n",
    "checkout_purchase = checkout.merge(purchase, how =\"left\")\n",
    "\n",
    "#number of users who did not purchase\n",
    "null_purchase_times = len(checkout_purchase[checkout_purchase.purchase_time.isnull()])\n",
    "\n",
    "#ratio of customers who put products to cart but not checkout\n",
    "checkout_not_purchase = float(null_purchase_times) / float(len(checkout))\n",
    "\n",
    "print(\"{} percent of users who visited the page did not add a t-shirt to their cart\".format(round(visited_not_cart*100, 2)))\n",
    "print(\"{} percent of users who added a t-shirt to their cart did not checkout\".format(round(cart_not_checkout*100, 2)))\n",
    "print(\"{} percent of users who made it to checkout  did not purchase a shirt\".format(round( checkout_not_purchase*100, 2)))\n",
    "\n",
    "#what is the average time for a customer to buy an item\n",
    "all_data = all_data = visit_to_cart.merge(cart_checkout, how = 'left').merge(purchase, how = 'left')\n",
    "\n",
    "all_data['time_to_purchase'] = all_data['purchase_time'] - all_data['visit_time']\n",
    "\n",
    "\n",
    "\n",
    "print(\"Average time to purchase is {}\".format(all_data.time_to_purchase.mean()) )"
   ]
  },
  {
   "cell_type": "markdown",
   "id": "832f98ef",
   "metadata": {},
   "source": [
    "The biggest pain point is we are not able convince customers to add the products to their carts. We have to focus on that point"
   ]
  }
 ],
 "metadata": {
  "kernelspec": {
   "display_name": "Python 3 (ipykernel)",
   "language": "python",
   "name": "python3"
  },
  "language_info": {
   "codemirror_mode": {
    "name": "ipython",
    "version": 3
   },
   "file_extension": ".py",
   "mimetype": "text/x-python",
   "name": "python",
   "nbconvert_exporter": "python",
   "pygments_lexer": "ipython3",
   "version": "3.9.13"
  }
 },
 "nbformat": 4,
 "nbformat_minor": 5
}
